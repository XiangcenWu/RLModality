{
 "cells": [
  {
   "cell_type": "code",
   "execution_count": null,
   "metadata": {},
   "outputs": [],
   "source": [
    "import torch\n",
    "\n",
    "\n",
    "x = torch.load('/home/xiangcen/RLModality/models/loss/agent_test.pt')\n",
    "x[-10:]"
   ]
  },
  {
   "cell_type": "code",
   "execution_count": null,
   "metadata": {},
   "outputs": [],
   "source": [
    "from RL.Env import Env\n",
    "from RL.Agent import Agent\n",
    "from Training import data_spilt, ReadH5d, create_data_loader\n",
    "from Training import train_seg_net, test_seg_net\n",
    "from Training import test_agent\n",
    "from monai.transforms import *\n",
    "from monai.networks.nets import DynUNet, SwinUNETR\n",
    "from monai.losses import DiceFocalLoss\n",
    "import torch\n",
    "import random\n",
    "\n",
    "\n",
    "batch_size=6\n",
    "num_epoch=1000\n",
    "\n",
    "\n",
    "\n",
    "seg_list, rl_list, holdout_list = data_spilt('/home/xiangcen/RLModality/picai_h5', 110, 100, 10)\n",
    "seg_list_promise, rl_list_promise, holdout_list_promise = data_spilt('/home/xiangcen/RLModality/promise_h5', 231, 180, 20)\n",
    "\n",
    "train_list = rl_list + rl_list_promise\n",
    "test_list = holdout_list + holdout_list_promise\n",
    "\n",
    "\n",
    "eps_length = 10\n",
    "learn_length = 10\n",
    "batch_size = 10\n",
    "n_epochs = 1\n",
    "\n",
    "\n",
    "device = 'cpu'\n",
    "seg_model = SwinUNETR(\n",
    "    img_size = (128, 128, 32),\n",
    "    in_channels = 2,\n",
    "    out_channels = 1,\n",
    "    depths = (2, 2, 2, 2),\n",
    "    num_heads = (3, 6, 12, 24),\n",
    "    drop_rate = 0.1,\n",
    "    attn_drop_rate = 0.1,\n",
    "    dropout_path_rate = 0.1,\n",
    "    downsample=\"mergingv2\",\n",
    "    use_v2=True,\n",
    ")\n",
    "seg_model.load_state_dict(torch.load(\"/home/xiangcen/RLModality/models/segmentation.ptm\", map_location=device, weights_only=True))\n",
    "seg_model.eval()\n",
    "\n",
    "agent = Agent(gamma = 0.98, alpha=0.0001, batch_size=batch_size, n_epochs=n_epochs, device=device)\n",
    "agent.load_models('/home/xiangcen/RLModality/models/rl_models/actor.ptm')\n",
    "\n",
    "test_dir = holdout_list[2]\n",
    "env = Env(test_dir, seg_model, 999, device)\n",
    "\n",
    "\n",
    "test_dice = torch.tensor(test_agent(Env(test_dir, seg_model, 999, device), agent, 10, device=device))\n",
    "\n",
    "print(test_dice)"
   ]
  }
 ],
 "metadata": {
  "kernelspec": {
   "display_name": "dl",
   "language": "python",
   "name": "python3"
  },
  "language_info": {
   "codemirror_mode": {
    "name": "ipython",
    "version": 3
   },
   "file_extension": ".py",
   "mimetype": "text/x-python",
   "name": "python",
   "nbconvert_exporter": "python",
   "pygments_lexer": "ipython3",
   "version": "3.12.7"
  }
 },
 "nbformat": 4,
 "nbformat_minor": 2
}
